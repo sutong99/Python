{
 "cells": [
  {
   "cell_type": "code",
   "execution_count": null,
   "metadata": {},
   "outputs": [],
   "source": [
    "import pandas as pd\n",
    "import numpy as np\n",
    "from sklearn.linear_model import LinearRegression\n",
    "\n",
    "class LWLR(object):\n",
    "    \n",
    "    def __init__(self,k=1): #Smaller k means more focusing weights.\n",
    "        self.k = k\n",
    "        \n",
    "    def fit(self,train,target):#All inputs should be numpy arrays.\n",
    "        self.train = train\n",
    "        self.target = target\n",
    "        return self\n",
    "    \n",
    "    def predict_single(self,example):\n",
    "        weights = np.square(self.train-example)\n",
    "        weights = np.sum(weights,axis=1)\n",
    "        weights = -0.5*weights/np.square(self.k)\n",
    "        weights = np.exp(weights)\n",
    "        model = LinearRegression()\n",
    "        model.fit(X=self.train,y=self.target,sample_weight=weights)\n",
    "        return model.predict(np.reshape(example,[1,-1]))[0]\n",
    "        \n",
    "        \n",
    "    def predict(self,test):#Return predictions as a numpy array.\n",
    "        result = []\n",
    "        for example in test:\n",
    "            result.append(self.predict_single(example))\n",
    "        return np.array(result)\n",
    "    \n",
    "\n",
    "# 在孩子身高数据集上使用\n",
    "train = pd.read_csv('height_train.csv')\n",
    "test = pd.read_csv('height_test.csv')\n",
    "real = pd.read_csv('height_real.csv')\n",
    "\n",
    "lwlr = LWLR(k=0.2)\n",
    "lwlr.fit(train.loc[:,['father_height','mother_height','boy_dummy']].values,train.child_height.values)\n",
    "test['prediction']=lwlr.predict(test.loc[:,['father_height','mother_height','boy_dummy']].values)\n",
    "\n",
    "print(np.square(test.prediction*100-real.child_height*100).mean())"
   ]
  },
  {
   "cell_type": "code",
   "execution_count": null,
   "metadata": {},
   "outputs": [],
   "source": []
  },
  {
   "cell_type": "code",
   "execution_count": null,
   "metadata": {},
   "outputs": [],
   "source": []
  }
 ],
 "metadata": {
  "kernelspec": {
   "display_name": "Python 3",
   "language": "python",
   "name": "python3"
  },
  "language_info": {
   "codemirror_mode": {
    "name": "ipython",
    "version": 3
   },
   "file_extension": ".py",
   "mimetype": "text/x-python",
   "name": "python",
   "nbconvert_exporter": "python",
   "pygments_lexer": "ipython3",
   "version": "3.7.2"
  }
 },
 "nbformat": 4,
 "nbformat_minor": 2
}
